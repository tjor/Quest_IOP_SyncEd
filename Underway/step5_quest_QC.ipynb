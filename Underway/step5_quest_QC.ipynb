{
 "cells": [
  {
   "cell_type": "code",
   "execution_count": 1,
   "id": "8f2b2bef",
   "metadata": {},
   "outputs": [],
   "source": [
    "import pandas as pd\n",
    "import numpy as np\n",
    "import matplotlib.pyplot as plt\n",
    "import xarray as xr\n",
    "from scipy import signal as sg\n",
    "from datetime import datetime as dt"
   ]
  },
  {
   "cell_type": "code",
   "execution_count": 2,
   "id": "fe5e5ab7",
   "metadata": {},
   "outputs": [],
   "source": [
    "def prcrng(x):\n",
    "    return (np.nanpercentile(x,84) - np.nanpercentile(x,16))/2."
   ]
  },
  {
   "cell_type": "code",
   "execution_count": 3,
   "id": "4a983fcc",
   "metadata": {},
   "outputs": [],
   "source": [
    "DIN_acs = \"/data/datasets/cruise_data/active/SyncED_Quest/Processed/Step3/\"\n",
    "fn_optics = \"quest24_IOP.nc\""
   ]
  },
  {
   "cell_type": "code",
   "execution_count": 4,
   "id": "e7ce8403",
   "metadata": {
    "code_folding": [],
    "scrolled": false
   },
   "outputs": [
    {
     "data": {
      "text/plain": [
       "['flow',\n",
       " 'acs_chl',\n",
       " 'acs_ap',\n",
       " 'acs_ap_u',\n",
       " 'acs_bp',\n",
       " 'acs_bp_u',\n",
       " 'acs_cp',\n",
       " 'acs_cp_u',\n",
       " 'acs_N',\n",
       " 'acs2_chl',\n",
       " 'acs2_ap',\n",
       " 'acs2_ap_u',\n",
       " 'acs2_bp',\n",
       " 'acs2_bp_u',\n",
       " 'acs2_cp',\n",
       " 'acs2_cp_u',\n",
       " 'acs2_N',\n",
       " 'ac9_chl',\n",
       " 'ac9_ap',\n",
       " 'ac9_ap_u',\n",
       " 'ac9_bp',\n",
       " 'ac9_bp_u',\n",
       " 'ac9_cp',\n",
       " 'ac9_cp_u',\n",
       " 'ac9_N',\n",
       " 'bb3_bbp',\n",
       " 'bb3_bbp_err',\n",
       " 'bb3_bb02',\n",
       " 'bb3_bb02_err',\n",
       " 'bb3_bbp_corr',\n",
       " 'cstar_cp',\n",
       " 'cstar_cp_err',\n",
       " 'ctd_sst',\n",
       " 'ctd_sal',\n",
       " 'uway_lat',\n",
       " 'uway_lon',\n",
       " 'uway_wind_speed',\n",
       " 'uway_wind_dir',\n",
       " 'uway_pressure',\n",
       " 'uway_humidity',\n",
       " 'uway_air_temp',\n",
       " 'uway_dew_temp',\n",
       " 'uway_chlor',\n",
       " 'uway_cdom',\n",
       " 'uway_turb',\n",
       " 'uway_sst',\n",
       " 'uway_conductivty',\n",
       " 'uway_salinity',\n",
       " 'uway_inlet_temp',\n",
       " 'uway_trasmittance',\n",
       " 'uway_oxygen',\n",
       " 'uway_par']"
      ]
     },
     "execution_count": 4,
     "metadata": {},
     "output_type": "execute_result"
    }
   ],
   "source": [
    "# read ACS data\n",
    "fn_acs = fn_optics\n",
    "fn_optics\n",
    "DIN_acs + fn_acs\n",
    "acs = xr.open_dataset(DIN_acs + fn_acs)\n",
    "acs.close()\n",
    "\n",
    "# replace uway_long with uway_lon\n",
    "if \"uway_long\" in acs.keys():\n",
    "    acs.uway_lon = acs.uway_long\n",
    "    acs = acs.drop(labels=\"uway_long\")\n",
    "\n",
    "# acs\n",
    "list(acs.keys())"
   ]
  },
  {
   "cell_type": "code",
   "execution_count": 5,
   "id": "edcbedd0",
   "metadata": {},
   "outputs": [],
   "source": [
    "# manually identify (using plot above) noisy parts of the acx_chl timeseries\n",
    "#print(' check this manual step for each cruise')\n",
    "#i2rm = [[5, 10],  # start and end index of noisy period 1 # AMT28\n",
    "    #    [15, 20], # start and end index of noisy period 2\n",
    "    #   ]\n",
    "\n",
    "# i2rm = [] # turned off as default\n",
    "#plt.figure()\n",
    "#plt.plot(acs['acs_chl'])\n",
    "\n",
    "# set values to nan inside the above intervals\n",
    "#if 'acx_chl' in  acs.keys():\n",
    "#    for istart,tmp in enumerate(i2rm):\n",
    " #           acs['acx_chl'].values[tmp[0]:tmp[1]] = np.nan\n",
    " #           acs['acs_ap'].values[tmp[0]:tmp[1], :] = np.nan\n",
    "  #          acs['acs_ap_u'].values[tmp[0]:tmp[1], :] = np.nan\n",
    "\n",
    "#else:\n",
    " #   for istart,tmp in enumerate(i2rm):\n",
    "  #         acs['acs_chl'].values[tmp[0]:tmp[1]] = np.nan\n",
    "   #        acs['acs_ap'].values[tmp[0]:tmp[1], :] = np.nan"
   ]
  },
  {
   "cell_type": "code",
   "execution_count": 6,
   "id": "1d135ce3",
   "metadata": {},
   "outputs": [],
   "source": [
    "\n",
    "#plt.plot(acs.time,acs.uway_lat)\n"
   ]
  },
  {
   "cell_type": "code",
   "execution_count": 7,
   "id": "72e6937e",
   "metadata": {},
   "outputs": [
    {
     "data": {
      "text/plain": [
       "[<matplotlib.lines.Line2D at 0x7f2e70194130>]"
      ]
     },
     "execution_count": 7,
     "metadata": {},
     "output_type": "execute_result"
    },
    {
     "data": {
      "image/png": "[encoded data removed]",
      "text/plain": [
       "<Figure size 432x288 with 1 Axes>"
      ]
     },
     "metadata": {
      "needs_background": "light"
     },
     "output_type": "display_data"
    }
   ],
   "source": [
    "plt.figure()\n",
    "plt.plot(acs.time,acs.uway_lat)\n",
    "plt.plot(acs.time,acs.acs_chl*100)"
   ]
  },
  {
   "cell_type": "code",
   "execution_count": 8,
   "id": "08b02762",
   "metadata": {
    "scrolled": true
   },
   "outputs": [
    {
     "name": "stdout",
     "output_type": "stream",
     "text": [
      "[540 541 542 543 544 545 598 599 600 601 602 603 604 605 606 607 608 609\n",
      " 610 611 612 613 614 615 616 617 618 619 620 621 622 623 624 625 626 627\n",
      " 628 629 630 631 632 633 634 635 636 637 638 639 640 641 642 643 644 645\n",
      " 646 647 648 649 650 651 652 653 654 655 656 657 658 659 660 661 662 663\n",
      " 664 665 666 667 668 669 670 671 672 673 674 675 676 677 678 679 680 681\n",
      " 682 683 684 685 686 687 688 689 690 691 692 693 694 695 696 697 698 699\n",
      " 700 701 702 703 704 705 706 707 708 709 710 711 712 713 714 715 716 717\n",
      " 718 719 780 781 782 783 784 785 786 787 788 789 790 791 792 793 795 796\n",
      " 797 798 799 800 801 802 803 804 805 806 807 808 809 810 811 812 813 814\n",
      " 815 816 817 818 819 820 821 822 823 824 825 826 827 828 829 830 831 832\n",
      " 833 834 835 836 837 838 839 840 841 842 843 844 845 846 850 851 852 853\n",
      " 854 855 856 857 858 859 860 861 862 863 864 865 866 867 868 869 870 871\n",
      " 872 873 874 875 876 877 878 879 880 881 882 883]\n",
      "[   0    1    2 ... 1437 1438 1439]\n",
      "[   0    1    2 ... 1437 1438 1439]\n"
     ]
    },
    {
     "data": {
      "text/plain": [
       "(30.0, 38.0)"
      ]
     },
     "execution_count": 8,
     "metadata": {},
     "output_type": "execute_result"
    },
    {
     "data": {
      "image/png": "[encoded data removed]",
      "text/plain": [
       "<Figure size 936x864 with 3 Axes>"
      ]
     },
     "metadata": {
      "needs_background": "light"
     },
     "output_type": "display_data"
    }
   ],
   "source": [
    "# filter acs data for MQ and noisy events - possibly adjust for quest\n",
    "MIN_FLOW_RATE = 25\n",
    "MIN_SAL = 33 \n",
    "\n",
    "i2f1 = np.where((acs.uway_salinity > MIN_SAL) & (acs.flow > MIN_FLOW_RATE))[0]  \n",
    "i2f2 = np.where((np.isnan(acs.uway_salinity)==True) | (np.isnan(acs.flow)==True))[0]\n",
    "\n",
    "i2f = np.union1d(i2f1, i2f2)\n",
    "\n",
    "print(i2f1)\n",
    "print(i2f2)\n",
    "print(i2f)\n",
    "\n",
    "fig, ax = plt.subplots(3,1, figsize=(13, 12), sharex=True)\n",
    "ax[0].plot(acs.time, acs.flow, '.-', lw=0.5, ms=1, alpha=0.5)\n",
    "ax[0].plot(acs.time[i2f], acs.flow[i2f], 'ro', lw=0.5, ms=5, mfc='none', alpha=0.15)\n",
    "ax[0].set_ylabel('flow')\n",
    "ax[0].grid('on')\n",
    "ax[0].set_ylim([-1, 60])\n",
    "\n",
    "\n",
    "ax[1].plot(acs.time, acs.uway_salinity, '.-', lw=0.5, ms=1, alpha=0.5)\n",
    "ax[1].plot(acs.time[i2f], acs.uway_salinity[i2f], 'r.', lw=0.1, ms=3, mfc='none', alpha=0.15)\n",
    "ax[1].set_ylabel('salinity')\n",
    "ax[1].grid('on')\n",
    "ax[1].set_ylim([30, 38])\n",
    "\n"
   ]
  },
  {
   "cell_type": "code",
   "execution_count": null,
   "id": "3e489b4f",
   "metadata": {},
   "outputs": [],
   "source": []
  },
  {
   "cell_type": "code",
   "execution_count": 9,
   "id": "560226db",
   "metadata": {
    "scrolled": false
   },
   "outputs": [
    {
     "data": {
      "text/plain": [
       "Text(0.5, 0, 'Time (UTC)')"
      ]
     },
     "execution_count": 9,
     "metadata": {},
     "output_type": "execute_result"
    },
    {
     "data": {
      "image/png": "[encoded data removed]",
      "text/plain": [
       "<Figure size 936x288 with 1 Axes>"
      ]
     },
     "metadata": {
      "needs_background": "light"
     },
     "output_type": "display_data"
    }
   ],
   "source": [
    "# median filter data\n",
    "innan = np.where(~np.isnan(acs.acs_chl[i2f]))[0] # need to remove nans to prevent medfilt to be spiky near edges\n",
    "innan2 = np.where(~np.isnan(acs.acs2_chl[i2f]))[0] # need to remove nans to prevent medfilt to be spiky near edges\n",
    "\n",
    "fig2, ax2 = plt.subplots(1, figsize=(13, 4))\n",
    "plt.rcParams.update({'font.size': 12})\n",
    "#MEDFILT_WIN = 31\n",
    "#ax2.semilogy(acs.time[i2f][innan], sg.medfilt(acs.acs_chl[i2f][innan], kernel_size=MEDFILT_WIN), 'bo', lw=1, ms=1, mfc='none', alpha = 0.5, label='Median filter (30 min window)')\n",
    "MEDFILT_WIN = 1\n",
    "ax2.semilogy(acs.time[i2f][innan], acs.acs_chl[i2f][innan], 'r.-', lw=0.1, ms=1, mfc='none', label='No filter')\n",
    "# ax2.semilogy(acs.time[i2f][innan2], acs.acs2_chl[i2f][innan2], 'k.-', lw=0.1, ms=1, mfc='none')\n",
    "# ax2.semilogy(acs.time[i2f][innan2], sg.medfilt(acs.acs2_chl[i2f][innan2], kernel_size=MEDFILT_WIN), 'bo',color='orange', lw=1, ms=1, mfc='none', alpha = 0.5, label='ACS2: med filt')\n",
    "ax2.grid('on')\n",
    "plt.legend()\n",
    "plt.ylim([1e-3, 2])\n",
    "plt.ylabel('Chl-a concentration [mg m$^{-3}$]')\n",
    "plt.xlabel('Time (UTC)')\n"
   ]
  },
  {
   "cell_type": "code",
   "execution_count": 10,
   "id": "b67466cd",
   "metadata": {},
   "outputs": [],
   "source": [
    "# step x - # filters w.r.t. i2fn (mQ interval + previous manual spike removal) and innan\n",
    "ix = xr.DataArray(acs.time[i2f][innan], dims=['time']) \n",
    "acs_filtered_x = acs.sel(time = ix)\n",
    "acs_filtered_x['acs_chl'].values = sg.medfilt(acs.acs_chl[i2f][innan], kernel_size=1)# Filter-size set to 1 as default #\n",
    "# plt.scatter(acs_filtered_xy['acs_chl'].time, acs_filtered_xy['acs_chl'].values)\n",
    "\n",
    "\n"
   ]
  },
  {
   "cell_type": "code",
   "execution_count": 11,
   "id": "e9e21d5f",
   "metadata": {},
   "outputs": [
    {
     "data": {
      "text/plain": [
       "<matplotlib.collections.PathCollection at 0x7f2e67e20070>"
      ]
     },
     "execution_count": 11,
     "metadata": {},
     "output_type": "execute_result"
    },
    {
     "data": {
      "image/png": "[encoded data removed]",
      "text/plain": [
       "<Figure size 432x288 with 1 Axes>"
      ]
     },
     "metadata": {
      "needs_background": "light"
     },
     "output_type": "display_data"
    }
   ],
   "source": [
    "# step y - # filters w.r.t. ap (10th element) being > 0\n",
    "i2kp = np.where((acs_filtered_x.acs_ap[:,10] > 0)) [0]\n",
    "iy = xr.DataArray(acs_filtered_x.time[i2kp], dims=['time']) \n",
    "acs_filtered_xy = acs_filtered_x.sel(time = iy)\n",
    "plt.scatter(acs_filtered_xy['acs_chl'].time, acs_filtered_xy['acs_chl'].values)"
   ]
  },
  {
   "cell_type": "code",
   "execution_count": 12,
   "id": "38f93768",
   "metadata": {},
   "outputs": [
    {
     "data": {
      "text/plain": [
       "[<matplotlib.lines.Line2D at 0x7f2e67cef730>]"
      ]
     },
     "execution_count": 12,
     "metadata": {},
     "output_type": "execute_result"
    },
    {
     "data": {
      "image/png": "[encoded data removed]",
      "text/plain": [
       "<Figure size 432x288 with 1 Axes>"
      ]
     },
     "metadata": {
      "needs_background": "light"
     },
     "output_type": "display_data"
    }
   ],
   "source": [
    "\n",
    "# step z - # filters w.r.t. acs chl being > 0\n",
    "i2kp = np.where((acs_filtered_xy.acs_chl[:] > 0)) [0]\n",
    "iz = xr.DataArray(acs_filtered_xy.time[i2kp], dims=['time']) \n",
    "acs_filtered_xyz = acs_filtered_xy.sel(time = iz)\n",
    "plt.plot(acs_filtered_xyz['acs_chl'].values)\n",
    "\n",
    "\n",
    "\n",
    "\n"
   ]
  },
  {
   "cell_type": "code",
   "execution_count": 30,
   "id": "30c5b1fc",
   "metadata": {
    "scrolled": false
   },
   "outputs": [
    {
     "data": {
      "text/plain": [
       "Text(0.5, 0, 'Time [UTC]')"
      ]
     },
     "execution_count": 30,
     "metadata": {},
     "output_type": "execute_result"
    },
    {
     "data": {
      "image/png": "[encoded data removed]",
      "text/plain": [
       "<Figure size 864x360 with 1 Axes>"
      ]
     },
     "metadata": {
      "needs_background": "light"
     },
     "output_type": "display_data"
    }
   ],
   "source": [
    "plt.figure(figsize=(12,5))\n",
    "import matplotlib.dates as mdates\n",
    "plt.rcParams.update({'font.size': 18})\n",
    "plt.gca().xaxis.set_major_formatter(mdates.DateFormatter('%H%M'))\n",
    "plt.ylabel('Chl-a [mg m$^{-3}]$')\n",
    "#plt.plot_date(acs_filtered_x['acs_chl'].time, acs_filtered_x['acs_chl'].values, ms=5, label = 'Failed QC')\n",
    "plt.plot_date(acs_filtered_xyz['acs_chl'].time, acs_filtered_xyz['acs_chl'].values, ms=5, label = 'Passed QC')\n",
    "plt.ylim(0,0.7)\n",
    "plt.xlim()\n",
    "plt.xlabel('Time [UTC]')"
   ]
  },
  {
   "cell_type": "code",
   "execution_count": 33,
   "id": "b81acddb",
   "metadata": {},
   "outputs": [
    {
     "data": {
      "text/plain": [
       "Text(0.5, 0, 'Time [UTC]')"
      ]
     },
     "execution_count": 33,
     "metadata": {},
     "output_type": "execute_result"
    },
    {
     "data": {
      "image/png": "[encoded data removed]",
      "text/plain": [
       "<Figure size 864x360 with 1 Axes>"
      ]
     },
     "metadata": {
      "needs_background": "light"
     },
     "output_type": "display_data"
    }
   ],
   "source": [
    "plt.figure(figsize=(12,5))\n",
    "import matplotlib.dates as mdates\n",
    "plt.rcParams.update({'font.size': 18})\n",
    "plt.gca().xaxis.set_major_formatter(mdates.DateFormatter('%H%M'))\n",
    "plt.ylabel('Lat [degs]')\n",
    "plt.plot_date(acs.time, acs.uway_lat, ms=5, label = 'Passed QC')\n",
    "plt.xlabel('Time [UTC]')"
   ]
  },
  {
   "cell_type": "code",
   "execution_count": 34,
   "id": "4fb2714a",
   "metadata": {},
   "outputs": [
    {
     "data": {
      "text/html": [
       "<div><svg style=\"position: absolute; width: 0; height: 0; overflow: hidden\">\n",
       "<defs>\n",
       "<symbol id=\"icon-database\" viewBox=\"0 0 32 32\">\n",
       "<path d=\"M16 0c-8.837 0-16 2.239-16 5v4c0 2.761 7.163 5 16 5s16-2.239 16-5v-4c0-2.761-7.163-5-16-5z\"></path>\n",
       "<path d=\"M16 17c-8.837 0-16-2.239-16-5v6c0 2.761 7.163 5 16 5s16-2.239 16-5v-6c0 2.761-7.163 5-16 5z\"></path>\n",
       "<path d=\"M16 26c-8.837 0-16-2.239-16-5v6c0 2.761 7.163 5 16 5s16-2.239 16-5v-6c0 2.761-7.163 5-16 5z\"></path>\n",
       "</symbol>\n",
       "<symbol id=\"icon-file-text2\" viewBox=\"0 0 32 32\">\n",
       "<path d=\"M28.681 7.159c-0.694-0.947-1.662-2.053-2.724-3.116s-2.169-2.030-3.116-2.724c-1.612-1.182-2.393-1.319-2.841-1.319h-15.5c-1.378 0-2.5 1.121-2.5 2.5v27c0 1.378 1.122 2.5 2.5 2.5h23c1.378 0 2.5-1.122 2.5-2.5v-19.5c0-0.448-0.137-1.23-1.319-2.841zM24.543 5.457c0.959 0.959 1.712 1.825 2.268 2.543h-4.811v-4.811c0.718 0.556 1.584 1.309 2.543 2.268zM28 29.5c0 0.271-0.229 0.5-0.5 0.5h-23c-0.271 0-0.5-0.229-0.5-0.5v-27c0-0.271 0.229-0.5 0.5-0.5 0 0 15.499-0 15.5 0v7c0 0.552 0.448 1 1 1h7v19.5z\"></path>\n",
       "<path d=\"M23 26h-14c-0.552 0-1-0.448-1-1s0.448-1 1-1h14c0.552 0 1 0.448 1 1s-0.448 1-1 1z\"></path>\n",
       "<path d=\"M23 22h-14c-0.552 0-1-0.448-1-1s0.448-1 1-1h14c0.552 0 1 0.448 1 1s-0.448 1-1 1z\"></path>\n",
       "<path d=\"M23 18h-14c-0.552 0-1-0.448-1-1s0.448-1 1-1h14c0.552 0 1 0.448 1 1s-0.448 1-1 1z\"></path>\n",
       "</symbol>\n",
       "</defs>\n",
       "</svg>\n",
       "<style>/* CSS stylesheet for displaying xarray objects in jupyterlab.\n",
       " *\n",
       " */\n",
       "\n",
       ":root {\n",
       "  --xr-font-color0: var(--jp-content-font-color0, rgba(0, 0, 0, 1));\n",
       "  --xr-font-color2: var(--jp-content-font-color2, rgba(0, 0, 0, 0.54));\n",
       "  --xr-font-color3: var(--jp-content-font-color3, rgba(0, 0, 0, 0.38));\n",
       "  --xr-border-color: var(--jp-border-color2, #e0e0e0);\n",
       "  --xr-disabled-color: var(--jp-layout-color3, #bdbdbd);\n",
       "  --xr-background-color: var(--jp-layout-color0, white);\n",
       "  --xr-background-color-row-even: var(--jp-layout-color1, white);\n",
       "  --xr-background-color-row-odd: var(--jp-layout-color2, #eeeeee);\n",
       "}\n",
       "\n",
       "html[theme=dark],\n",
       "body[data-theme=dark],\n",
       "body.vscode-dark {\n",
       "  --xr-font-color0: rgba(255, 255, 255, 1);\n",
       "  --xr-font-color2: rgba(255, 255, 255, 0.54);\n",
       "  --xr-font-color3: rgba(255, 255, 255, 0.38);\n",
       "  --xr-border-color: #1F1F1F;\n",
       "  --xr-disabled-color: #515151;\n",
       "  --xr-background-color: #111111;\n",
       "  --xr-background-color-row-even: #111111;\n",
       "  --xr-background-color-row-odd: #313131;\n",
       "}\n",
       "\n",
       ".xr-wrap {\n",
       "  display: block !important;\n",
       "  min-width: 300px;\n",
       "  max-width: 700px;\n",
       "}\n",
       "\n",
       ".xr-text-repr-fallback {\n",
       "  /* fallback to plain text repr when CSS is not injected (untrusted notebook) */\n",
       "  display: none;\n",
       "}\n",
       "\n",
       ".xr-header {\n",
       "  padding-top: 6px;\n",
       "  padding-bottom: 6px;\n",
       "  margin-bottom: 4px;\n",
       "  border-bottom: solid 1px var(--xr-border-color);\n",
       "}\n",
       "\n",
       ".xr-header > div,\n",
       ".xr-header > ul {\n",
       "  display: inline;\n",
       "  margin-top: 0;\n",
       "  margin-bottom: 0;\n",
       "}\n",
       "\n",
       ".xr-obj-type,\n",
       ".xr-array-name {\n",
       "  margin-left: 2px;\n",
       "  margin-right: 10px;\n",
       "}\n",
       "\n",
       ".xr-obj-type {\n",
       "  color: var(--xr-font-color2);\n",
       "}\n",
       "\n",
       ".xr-sections {\n",
       "  padding-left: 0 !important;\n",
       "  display: grid;\n",
       "  grid-template-columns: 150px auto auto 1fr 20px 20px;\n",
       "}\n",
       "\n",
       ".xr-section-item {\n",
       "  display: contents;\n",
       "}\n",
       "\n",
       ".xr-section-item input {\n",
       "  display: none;\n",
       "}\n",
       "\n",
       ".xr-section-item input + label {\n",
       "  color: var(--xr-disabled-color);\n",
       "}\n",
       "\n",
       ".xr-section-item input:enabled + label {\n",
       "  cursor: pointer;\n",
       "  color: var(--xr-font-color2);\n",
       "}\n",
       "\n",
       ".xr-section-item input:enabled + label:hover {\n",
       "  color: var(--xr-font-color0);\n",
       "}\n",
       "\n",
       ".xr-section-summary {\n",
       "  grid-column: 1;\n",
       "  color: var(--xr-font-color2);\n",
       "  font-weight: 500;\n",
       "}\n",
       "\n",
       ".xr-section-summary > span {\n",
       "  display: inline-block;\n",
       "  padding-left: 0.5em;\n",
       "}\n",
       "\n",
       ".xr-section-summary-in:disabled + label {\n",
       "  color: var(--xr-font-color2);\n",
       "}\n",
       "\n",
       ".xr-section-summary-in + label:before {\n",
       "  display: inline-block;\n",
       "  content: '►';\n",
       "  font-size: 11px;\n",
       "  width: 15px;\n",
       "  text-align: center;\n",
       "}\n",
       "\n",
       ".xr-section-summary-in:disabled + label:before {\n",
       "  color: var(--xr-disabled-color);\n",
       "}\n",
       "\n",
       ".xr-section-summary-in:checked + label:before {\n",
       "  content: '▼';\n",
       "}\n",
       "\n",
       ".xr-section-summary-in:checked + label > span {\n",
       "  display: none;\n",
       "}\n",
       "\n",
       ".xr-section-summary,\n",
       ".xr-section-inline-details {\n",
       "  padding-top: 4px;\n",
       "  padding-bottom: 4px;\n",
       "}\n",
       "\n",
       ".xr-section-inline-details {\n",
       "  grid-column: 2 / -1;\n",
       "}\n",
       "\n",
       ".xr-section-details {\n",
       "  display: none;\n",
       "  grid-column: 1 / -1;\n",
       "  margin-bottom: 5px;\n",
       "}\n",
       "\n",
       ".xr-section-summary-in:checked ~ .xr-section-details {\n",
       "  display: contents;\n",
       "}\n",
       "\n",
       ".xr-array-wrap {\n",
       "  grid-column: 1 / -1;\n",
       "  display: grid;\n",
       "  grid-template-columns: 20px auto;\n",
       "}\n",
       "\n",
       ".xr-array-wrap > label {\n",
       "  grid-column: 1;\n",
       "  vertical-align: top;\n",
       "}\n",
       "\n",
       ".xr-preview {\n",
       "  color: var(--xr-font-color3);\n",
       "}\n",
       "\n",
       ".xr-array-preview,\n",
       ".xr-array-data {\n",
       "  padding: 0 5px !important;\n",
       "  grid-column: 2;\n",
       "}\n",
       "\n",
       ".xr-array-data,\n",
       ".xr-array-in:checked ~ .xr-array-preview {\n",
       "  display: none;\n",
       "}\n",
       "\n",
       ".xr-array-in:checked ~ .xr-array-data,\n",
       ".xr-array-preview {\n",
       "  display: inline-block;\n",
       "}\n",
       "\n",
       ".xr-dim-list {\n",
       "  display: inline-block !important;\n",
       "  list-style: none;\n",
       "  padding: 0 !important;\n",
       "  margin: 0;\n",
       "}\n",
       "\n",
       ".xr-dim-list li {\n",
       "  display: inline-block;\n",
       "  padding: 0;\n",
       "  margin: 0;\n",
       "}\n",
       "\n",
       ".xr-dim-list:before {\n",
       "  content: '(';\n",
       "}\n",
       "\n",
       ".xr-dim-list:after {\n",
       "  content: ')';\n",
       "}\n",
       "\n",
       ".xr-dim-list li:not(:last-child):after {\n",
       "  content: ',';\n",
       "  padding-right: 5px;\n",
       "}\n",
       "\n",
       ".xr-has-index {\n",
       "  font-weight: bold;\n",
       "}\n",
       "\n",
       ".xr-var-list,\n",
       ".xr-var-item {\n",
       "  display: contents;\n",
       "}\n",
       "\n",
       ".xr-var-item > div,\n",
       ".xr-var-item label,\n",
       ".xr-var-item > .xr-var-name span {\n",
       "  background-color: var(--xr-background-color-row-even);\n",
       "  margin-bottom: 0;\n",
       "}\n",
       "\n",
       ".xr-var-item > .xr-var-name:hover span {\n",
       "  padding-right: 5px;\n",
       "}\n",
       "\n",
       ".xr-var-list > li:nth-child(odd) > div,\n",
       ".xr-var-list > li:nth-child(odd) > label,\n",
       ".xr-var-list > li:nth-child(odd) > .xr-var-name span {\n",
       "  background-color: var(--xr-background-color-row-odd);\n",
       "}\n",
       "\n",
       ".xr-var-name {\n",
       "  grid-column: 1;\n",
       "}\n",
       "\n",
       ".xr-var-dims {\n",
       "  grid-column: 2;\n",
       "}\n",
       "\n",
       ".xr-var-dtype {\n",
       "  grid-column: 3;\n",
       "  text-align: right;\n",
       "  color: var(--xr-font-color2);\n",
       "}\n",
       "\n",
       ".xr-var-preview {\n",
       "  grid-column: 4;\n",
       "}\n",
       "\n",
       ".xr-index-preview {\n",
       "  grid-column: 2 / 5;\n",
       "  color: var(--xr-font-color2);\n",
       "}\n",
       "\n",
       ".xr-var-name,\n",
       ".xr-var-dims,\n",
       ".xr-var-dtype,\n",
       ".xr-preview,\n",
       ".xr-attrs dt {\n",
       "  white-space: nowrap;\n",
       "  overflow: hidden;\n",
       "  text-overflow: ellipsis;\n",
       "  padding-right: 10px;\n",
       "}\n",
       "\n",
       ".xr-var-name:hover,\n",
       ".xr-var-dims:hover,\n",
       ".xr-var-dtype:hover,\n",
       ".xr-attrs dt:hover {\n",
       "  overflow: visible;\n",
       "  width: auto;\n",
       "  z-index: 1;\n",
       "}\n",
       "\n",
       ".xr-var-attrs,\n",
       ".xr-var-data,\n",
       ".xr-index-data {\n",
       "  display: none;\n",
       "  background-color: var(--xr-background-color) !important;\n",
       "  padding-bottom: 5px !important;\n",
       "}\n",
       "\n",
       ".xr-var-attrs-in:checked ~ .xr-var-attrs,\n",
       ".xr-var-data-in:checked ~ .xr-var-data,\n",
       ".xr-index-data-in:checked ~ .xr-index-data {\n",
       "  display: block;\n",
       "}\n",
       "\n",
       ".xr-var-data > table {\n",
       "  float: right;\n",
       "}\n",
       "\n",
       ".xr-var-name span,\n",
       ".xr-var-data,\n",
       ".xr-index-name div,\n",
       ".xr-index-data,\n",
       ".xr-attrs {\n",
       "  padding-left: 25px !important;\n",
       "}\n",
       "\n",
       ".xr-attrs,\n",
       ".xr-var-attrs,\n",
       ".xr-var-data,\n",
       ".xr-index-data {\n",
       "  grid-column: 1 / -1;\n",
       "}\n",
       "\n",
       "dl.xr-attrs {\n",
       "  padding: 0;\n",
       "  margin: 0;\n",
       "  display: grid;\n",
       "  grid-template-columns: 125px auto;\n",
       "}\n",
       "\n",
       ".xr-attrs dt,\n",
       ".xr-attrs dd {\n",
       "  padding: 0;\n",
       "  margin: 0;\n",
       "  float: left;\n",
       "  padding-right: 10px;\n",
       "  width: auto;\n",
       "}\n",
       "\n",
       ".xr-attrs dt {\n",
       "  font-weight: normal;\n",
       "  grid-column: 1;\n",
       "}\n",
       "\n",
       ".xr-attrs dt:hover span {\n",
       "  display: inline-block;\n",
       "  background: var(--xr-background-color);\n",
       "  padding-right: 10px;\n",
       "}\n",
       "\n",
       ".xr-attrs dd {\n",
       "  grid-column: 2;\n",
       "  white-space: pre-wrap;\n",
       "  word-break: break-all;\n",
       "}\n",
       "\n",
       ".xr-icon-database,\n",
       ".xr-icon-file-text2,\n",
       ".xr-no-icon {\n",
       "  display: inline-block;\n",
       "  vertical-align: middle;\n",
       "  width: 1em;\n",
       "  height: 1.5em !important;\n",
       "  stroke-width: 0;\n",
       "  stroke: currentColor;\n",
       "  fill: currentColor;\n",
       "}\n",
       "</style><pre class='xr-text-repr-fallback'>&lt;xarray.DataArray &#x27;uway_lat&#x27; (time: 60)&gt;\n",
       "array([50.252232, 50.252132, 50.25204 , 50.252016, 50.252024, 50.252052,\n",
       "       50.252012, 50.251848, 50.251808, 50.251808, 50.251772, 50.251744,\n",
       "       50.251716, 50.251676, 50.251652, 50.251628, 50.251608, 50.251604,\n",
       "       50.251608, 50.251608, 50.251572, 50.251516, 50.251432, 50.251608,\n",
       "       50.251448, 50.251276, 50.251212, 50.25122 , 50.251212, 50.251264,\n",
       "       50.251416, 50.251376, 50.25132 , 50.251344, 50.25132 , 50.25132 ,\n",
       "       50.25132 , 50.251156, 50.250652, 50.250344, 50.25022 , 50.250196,\n",
       "       50.25028 , 50.25044 , 50.250552, 50.25056 , 50.250588, 50.250488,\n",
       "       50.250136, 50.250024, 50.249856, 50.257624, 50.260172, 50.262616,\n",
       "       50.265088, 50.267512, 50.270004, 50.272468, 50.274952, 50.2774  ])\n",
       "Coordinates:\n",
       "  * time     (time) datetime64[ns] 2024-08-06T09:11:00.000000768 ... 2024-08-...\n",
       "Attributes:\n",
       "    units:    degrees_N</pre><div class='xr-wrap' style='display:none'><div class='xr-header'><div class='xr-obj-type'>xarray.DataArray</div><div class='xr-array-name'>'uway_lat'</div><ul class='xr-dim-list'><li><span class='xr-has-index'>time</span>: 60</li></ul></div><ul class='xr-sections'><li class='xr-section-item'><div class='xr-array-wrap'><input id='section-2d4330aa-11fc-4893-af81-426a57c6dda9' class='xr-array-in' type='checkbox' checked><label for='section-2d4330aa-11fc-4893-af81-426a57c6dda9' title='Show/hide data repr'><svg class='icon xr-icon-database'><use xlink:href='#icon-database'></use></svg></label><div class='xr-array-preview xr-preview'><span>50.25 50.25 50.25 50.25 50.25 50.25 ... 50.27 50.27 50.27 50.27 50.28</span></div><div class='xr-array-data'><pre>array([50.252232, 50.252132, 50.25204 , 50.252016, 50.252024, 50.252052,\n",
       "       50.252012, 50.251848, 50.251808, 50.251808, 50.251772, 50.251744,\n",
       "       50.251716, 50.251676, 50.251652, 50.251628, 50.251608, 50.251604,\n",
       "       50.251608, 50.251608, 50.251572, 50.251516, 50.251432, 50.251608,\n",
       "       50.251448, 50.251276, 50.251212, 50.25122 , 50.251212, 50.251264,\n",
       "       50.251416, 50.251376, 50.25132 , 50.251344, 50.25132 , 50.25132 ,\n",
       "       50.25132 , 50.251156, 50.250652, 50.250344, 50.25022 , 50.250196,\n",
       "       50.25028 , 50.25044 , 50.250552, 50.25056 , 50.250588, 50.250488,\n",
       "       50.250136, 50.250024, 50.249856, 50.257624, 50.260172, 50.262616,\n",
       "       50.265088, 50.267512, 50.270004, 50.272468, 50.274952, 50.2774  ])</pre></div></div></li><li class='xr-section-item'><input id='section-0165e0d1-9f9a-467f-ba7c-00d33c66bd0c' class='xr-section-summary-in' type='checkbox'  checked><label for='section-0165e0d1-9f9a-467f-ba7c-00d33c66bd0c' class='xr-section-summary' >Coordinates: <span>(1)</span></label><div class='xr-section-inline-details'></div><div class='xr-section-details'><ul class='xr-var-list'><li class='xr-var-item'><div class='xr-var-name'><span class='xr-has-index'>time</span></div><div class='xr-var-dims'>(time)</div><div class='xr-var-dtype'>datetime64[ns]</div><div class='xr-var-preview xr-preview'>2024-08-06T09:11:00.000000768 .....</div><input id='attrs-47dfcfb0-8b0c-4db9-bbb2-94e6fe40f542' class='xr-var-attrs-in' type='checkbox' ><label for='attrs-47dfcfb0-8b0c-4db9-bbb2-94e6fe40f542' title='Show/Hide attributes'><svg class='icon xr-icon-file-text2'><use xlink:href='#icon-file-text2'></use></svg></label><input id='data-c502fccb-736f-495a-9810-202075163c91' class='xr-var-data-in' type='checkbox'><label for='data-c502fccb-736f-495a-9810-202075163c91' title='Show/Hide data repr'><svg class='icon xr-icon-database'><use xlink:href='#icon-database'></use></svg></label><div class='xr-var-attrs'><dl class='xr-attrs'><dt><span>time zone :</span></dt><dd>UTC</dd></dl></div><div class='xr-var-data'><pre>array([&#x27;2024-08-06T09:11:00.000000768&#x27;, &#x27;2024-08-06T09:12:00.000007424&#x27;,\n",
       "       &#x27;2024-08-06T09:13:00.000003840&#x27;, &#x27;2024-08-06T09:14:00.000000256&#x27;,\n",
       "       &#x27;2024-08-06T09:15:00.000006656&#x27;, &#x27;2024-08-06T09:16:00.000003072&#x27;,\n",
       "       &#x27;2024-08-06T09:16:59.999999488&#x27;, &#x27;2024-08-06T09:18:00.000006144&#x27;,\n",
       "       &#x27;2024-08-06T09:19:00.000002560&#x27;, &#x27;2024-08-06T09:19:59.999998976&#x27;,\n",
       "       &#x27;2024-08-06T09:21:00.000005376&#x27;, &#x27;2024-08-06T09:22:00.000001792&#x27;,\n",
       "       &#x27;2024-08-06T09:23:00.000008192&#x27;, &#x27;2024-08-06T09:24:00.000004608&#x27;,\n",
       "       &#x27;2024-08-06T09:25:00.000001024&#x27;, &#x27;2024-08-06T09:26:00.000007680&#x27;,\n",
       "       &#x27;2024-08-06T09:27:00.000004096&#x27;, &#x27;2024-08-06T09:28:00.000000512&#x27;,\n",
       "       &#x27;2024-08-06T09:29:00.000006912&#x27;, &#x27;2024-08-06T09:30:00.000003328&#x27;,\n",
       "       &#x27;2024-08-06T09:30:59.999999744&#x27;, &#x27;2024-08-06T09:32:00.000006144&#x27;,\n",
       "       &#x27;2024-08-06T09:33:00.000002560&#x27;, &#x27;2024-08-06T09:33:59.999999232&#x27;,\n",
       "       &#x27;2024-08-06T09:35:00.000005632&#x27;, &#x27;2024-08-06T09:36:00.000002048&#x27;,\n",
       "       &#x27;2024-08-06T09:36:59.999998464&#x27;, &#x27;2024-08-06T09:38:00.000004864&#x27;,\n",
       "       &#x27;2024-08-06T09:39:00.000001280&#x27;, &#x27;2024-08-06T09:40:00.000007936&#x27;,\n",
       "       &#x27;2024-08-06T09:41:00.000004352&#x27;, &#x27;2024-08-06T09:42:00.000000768&#x27;,\n",
       "       &#x27;2024-08-06T09:43:00.000007168&#x27;, &#x27;2024-08-06T09:44:00.000003584&#x27;,\n",
       "       &#x27;2024-08-06T09:45:00.000000000&#x27;, &#x27;2024-08-06T09:46:00.000006400&#x27;,\n",
       "       &#x27;2024-08-06T09:47:00.000002816&#x27;, &#x27;2024-08-06T09:47:59.999999232&#x27;,\n",
       "       &#x27;2024-08-06T09:49:00.000005888&#x27;, &#x27;2024-08-06T09:50:00.000002304&#x27;,\n",
       "       &#x27;2024-08-06T09:50:59.999998720&#x27;, &#x27;2024-08-06T09:52:00.000005120&#x27;,\n",
       "       &#x27;2024-08-06T09:53:00.000001536&#x27;, &#x27;2024-08-06T09:54:00.000007936&#x27;,\n",
       "       &#x27;2024-08-06T09:55:00.000004352&#x27;, &#x27;2024-08-06T09:56:00.000000768&#x27;,\n",
       "       &#x27;2024-08-06T09:57:00.000007424&#x27;, &#x27;2024-08-06T09:58:00.000003840&#x27;,\n",
       "       &#x27;2024-08-06T10:11:00.000007680&#x27;, &#x27;2024-08-06T10:12:00.000004096&#x27;,\n",
       "       &#x27;2024-08-06T10:13:00.000000512&#x27;, &#x27;2024-08-06T13:11:00.000007680&#x27;,\n",
       "       &#x27;2024-08-06T13:12:00.000004096&#x27;, &#x27;2024-08-06T13:13:00.000000512&#x27;,\n",
       "       &#x27;2024-08-06T13:14:00.000006912&#x27;, &#x27;2024-08-06T13:15:00.000003328&#x27;,\n",
       "       &#x27;2024-08-06T13:15:59.999999744&#x27;, &#x27;2024-08-06T13:17:00.000006144&#x27;,\n",
       "       &#x27;2024-08-06T13:18:00.000002560&#x27;, &#x27;2024-08-06T13:18:59.999999232&#x27;],\n",
       "      dtype=&#x27;datetime64[ns]&#x27;)</pre></div></li></ul></div></li><li class='xr-section-item'><input id='section-12c1dc11-56c4-468b-bd37-fd2468eb2121' class='xr-section-summary-in' type='checkbox'  ><label for='section-12c1dc11-56c4-468b-bd37-fd2468eb2121' class='xr-section-summary' >Indexes: <span>(1)</span></label><div class='xr-section-inline-details'></div><div class='xr-section-details'><ul class='xr-var-list'><li class='xr-var-item'><div class='xr-index-name'><div>time</div></div><div class='xr-index-preview'>PandasIndex</div><div></div><input id='index-775f7426-9213-45b4-89fb-68d7843013e2' class='xr-index-data-in' type='checkbox'/><label for='index-775f7426-9213-45b4-89fb-68d7843013e2' title='Show/Hide index repr'><svg class='icon xr-icon-database'><use xlink:href='#icon-database'></use></svg></label><div class='xr-index-data'><pre>PandasIndex(DatetimeIndex([&#x27;2024-08-06 09:11:00.000000768&#x27;,\n",
       "               &#x27;2024-08-06 09:12:00.000007424&#x27;,\n",
       "               &#x27;2024-08-06 09:13:00.000003840&#x27;,\n",
       "               &#x27;2024-08-06 09:14:00.000000256&#x27;,\n",
       "               &#x27;2024-08-06 09:15:00.000006656&#x27;,\n",
       "               &#x27;2024-08-06 09:16:00.000003072&#x27;,\n",
       "               &#x27;2024-08-06 09:16:59.999999488&#x27;,\n",
       "               &#x27;2024-08-06 09:18:00.000006144&#x27;,\n",
       "               &#x27;2024-08-06 09:19:00.000002560&#x27;,\n",
       "               &#x27;2024-08-06 09:19:59.999998976&#x27;,\n",
       "               &#x27;2024-08-06 09:21:00.000005376&#x27;,\n",
       "               &#x27;2024-08-06 09:22:00.000001792&#x27;,\n",
       "               &#x27;2024-08-06 09:23:00.000008192&#x27;,\n",
       "               &#x27;2024-08-06 09:24:00.000004608&#x27;,\n",
       "               &#x27;2024-08-06 09:25:00.000001024&#x27;,\n",
       "               &#x27;2024-08-06 09:26:00.000007680&#x27;,\n",
       "               &#x27;2024-08-06 09:27:00.000004096&#x27;,\n",
       "               &#x27;2024-08-06 09:28:00.000000512&#x27;,\n",
       "               &#x27;2024-08-06 09:29:00.000006912&#x27;,\n",
       "               &#x27;2024-08-06 09:30:00.000003328&#x27;,\n",
       "               &#x27;2024-08-06 09:30:59.999999744&#x27;,\n",
       "               &#x27;2024-08-06 09:32:00.000006144&#x27;,\n",
       "               &#x27;2024-08-06 09:33:00.000002560&#x27;,\n",
       "               &#x27;2024-08-06 09:33:59.999999232&#x27;,\n",
       "               &#x27;2024-08-06 09:35:00.000005632&#x27;,\n",
       "               &#x27;2024-08-06 09:36:00.000002048&#x27;,\n",
       "               &#x27;2024-08-06 09:36:59.999998464&#x27;,\n",
       "               &#x27;2024-08-06 09:38:00.000004864&#x27;,\n",
       "               &#x27;2024-08-06 09:39:00.000001280&#x27;,\n",
       "               &#x27;2024-08-06 09:40:00.000007936&#x27;,\n",
       "               &#x27;2024-08-06 09:41:00.000004352&#x27;,\n",
       "               &#x27;2024-08-06 09:42:00.000000768&#x27;,\n",
       "               &#x27;2024-08-06 09:43:00.000007168&#x27;,\n",
       "               &#x27;2024-08-06 09:44:00.000003584&#x27;,\n",
       "                         &#x27;2024-08-06 09:45:00&#x27;,\n",
       "               &#x27;2024-08-06 09:46:00.000006400&#x27;,\n",
       "               &#x27;2024-08-06 09:47:00.000002816&#x27;,\n",
       "               &#x27;2024-08-06 09:47:59.999999232&#x27;,\n",
       "               &#x27;2024-08-06 09:49:00.000005888&#x27;,\n",
       "               &#x27;2024-08-06 09:50:00.000002304&#x27;,\n",
       "               &#x27;2024-08-06 09:50:59.999998720&#x27;,\n",
       "               &#x27;2024-08-06 09:52:00.000005120&#x27;,\n",
       "               &#x27;2024-08-06 09:53:00.000001536&#x27;,\n",
       "               &#x27;2024-08-06 09:54:00.000007936&#x27;,\n",
       "               &#x27;2024-08-06 09:55:00.000004352&#x27;,\n",
       "               &#x27;2024-08-06 09:56:00.000000768&#x27;,\n",
       "               &#x27;2024-08-06 09:57:00.000007424&#x27;,\n",
       "               &#x27;2024-08-06 09:58:00.000003840&#x27;,\n",
       "               &#x27;2024-08-06 10:11:00.000007680&#x27;,\n",
       "               &#x27;2024-08-06 10:12:00.000004096&#x27;,\n",
       "               &#x27;2024-08-06 10:13:00.000000512&#x27;,\n",
       "               &#x27;2024-08-06 13:11:00.000007680&#x27;,\n",
       "               &#x27;2024-08-06 13:12:00.000004096&#x27;,\n",
       "               &#x27;2024-08-06 13:13:00.000000512&#x27;,\n",
       "               &#x27;2024-08-06 13:14:00.000006912&#x27;,\n",
       "               &#x27;2024-08-06 13:15:00.000003328&#x27;,\n",
       "               &#x27;2024-08-06 13:15:59.999999744&#x27;,\n",
       "               &#x27;2024-08-06 13:17:00.000006144&#x27;,\n",
       "               &#x27;2024-08-06 13:18:00.000002560&#x27;,\n",
       "               &#x27;2024-08-06 13:18:59.999999232&#x27;],\n",
       "              dtype=&#x27;datetime64[ns]&#x27;, name=&#x27;time&#x27;, freq=None))</pre></div></li></ul></div></li><li class='xr-section-item'><input id='section-d2ba7ffd-662f-41c3-a69f-6c5b4c3e404c' class='xr-section-summary-in' type='checkbox'  checked><label for='section-d2ba7ffd-662f-41c3-a69f-6c5b4c3e404c' class='xr-section-summary' >Attributes: <span>(1)</span></label><div class='xr-section-inline-details'></div><div class='xr-section-details'><dl class='xr-attrs'><dt><span>units :</span></dt><dd>degrees_N</dd></dl></div></li></ul></div></div>"
      ],
      "text/plain": [
       "<xarray.DataArray 'uway_lat' (time: 60)>\n",
       "array([50.252232, 50.252132, 50.25204 , 50.252016, 50.252024, 50.252052,\n",
       "       50.252012, 50.251848, 50.251808, 50.251808, 50.251772, 50.251744,\n",
       "       50.251716, 50.251676, 50.251652, 50.251628, 50.251608, 50.251604,\n",
       "       50.251608, 50.251608, 50.251572, 50.251516, 50.251432, 50.251608,\n",
       "       50.251448, 50.251276, 50.251212, 50.25122 , 50.251212, 50.251264,\n",
       "       50.251416, 50.251376, 50.25132 , 50.251344, 50.25132 , 50.25132 ,\n",
       "       50.25132 , 50.251156, 50.250652, 50.250344, 50.25022 , 50.250196,\n",
       "       50.25028 , 50.25044 , 50.250552, 50.25056 , 50.250588, 50.250488,\n",
       "       50.250136, 50.250024, 50.249856, 50.257624, 50.260172, 50.262616,\n",
       "       50.265088, 50.267512, 50.270004, 50.272468, 50.274952, 50.2774  ])\n",
       "Coordinates:\n",
       "  * time     (time) datetime64[ns] 2024-08-06T09:11:00.000000768 ... 2024-08-...\n",
       "Attributes:\n",
       "    units:    degrees_N"
      ]
     },
     "execution_count": 34,
     "metadata": {},
     "output_type": "execute_result"
    }
   ],
   "source": [
    " acs_filtered_xyz.uway_lat"
   ]
  },
  {
   "cell_type": "code",
   "execution_count": 37,
   "id": "bfe17696",
   "metadata": {},
   "outputs": [],
   "source": [
    "# manual clean up of keys\n",
    "acs_filtered_xyz = acs_filtered_xyz.drop('ac9_N')\n",
    "acs_filtered_xyz = acs_filtered_xyz.drop('ac9_ap')\n",
    "acs_filtered_xyz = acs_filtered_xyz.drop('ac9_ap_u')\n",
    "acs_filtered_xyz = acs_filtered_xyz.drop('ac9_bp')\n",
    "acs_filtered_xyz = acs_filtered_xyz.drop('ac9_bp_u')\n",
    "acs_filtered_xyz = acs_filtered_xyz.drop('ac9_chl')\n",
    "acs_filtered_xyz = acs_filtered_xyz.drop('ac9_cp')\n",
    "acs_filtered_xyz = acs_filtered_xyz.drop('ac9_cp_u')\n",
    "acs_filtered_xyz = acs_filtered_xyz.drop('ac9_wv')\n",
    "\n",
    "acs_filtered_xyz = acs_filtered_xyz.drop('acs2_N')\n",
    "acs_filtered_xyz = acs_filtered_xyz.drop('acs2_ap')\n",
    "acs_filtered_xyz = acs_filtered_xyz.drop('acs2_ap_u')\n",
    "acs_filtered_xyz = acs_filtered_xyz.drop('acs2_bp')\n",
    "acs_filtered_xyz = acs_filtered_xyz.drop('acs2_bp_u')\n",
    "acs_filtered_xyz = acs_filtered_xyz.drop('acs2_chl')\n",
    "acs_filtered_xyz = acs_filtered_xyz.drop('acs2_cp')\n",
    "acs_filtered_xyz = acs_filtered_xyz.drop('acs2_cp_u')\n",
    "acs_filtered_xyz = acs_filtered_xyz.drop('acs2_wv')"
   ]
  },
  {
   "cell_type": "code",
   "execution_count": 38,
   "id": "a12070a6",
   "metadata": {},
   "outputs": [],
   "source": [
    "acs_filtered_xyz.to_netcdf(DIN_acs + fn_acs[:-3] + '_QC.nc')\n",
    "acs_filtered_xyz.close()"
   ]
  },
  {
   "cell_type": "code",
   "execution_count": 40,
   "id": "6c212b68",
   "metadata": {},
   "outputs": [
    {
     "data": {
      "text/plain": [
       "['flow',\n",
       " 'acs_chl',\n",
       " 'acs_ap',\n",
       " 'acs_ap_u',\n",
       " 'acs_bp',\n",
       " 'acs_bp_u',\n",
       " 'acs_cp',\n",
       " 'acs_cp_u',\n",
       " 'acs_N',\n",
       " 'bb3_bbp',\n",
       " 'bb3_bbp_err',\n",
       " 'bb3_bb02',\n",
       " 'bb3_bb02_err',\n",
       " 'bb3_bbp_corr',\n",
       " 'cstar_cp',\n",
       " 'cstar_cp_err',\n",
       " 'ctd_sst',\n",
       " 'ctd_sal',\n",
       " 'uway_lat',\n",
       " 'uway_lon',\n",
       " 'uway_wind_speed',\n",
       " 'uway_wind_dir',\n",
       " 'uway_pressure',\n",
       " 'uway_humidity',\n",
       " 'uway_air_temp',\n",
       " 'uway_dew_temp',\n",
       " 'uway_chlor',\n",
       " 'uway_cdom',\n",
       " 'uway_turb',\n",
       " 'uway_sst',\n",
       " 'uway_conductivty',\n",
       " 'uway_salinity',\n",
       " 'uway_inlet_temp',\n",
       " 'uway_trasmittance',\n",
       " 'uway_oxygen',\n",
       " 'uway_par']"
      ]
     },
     "execution_count": 40,
     "metadata": {},
     "output_type": "execute_result"
    }
   ],
   "source": [
    "list(acs_filtered_xyz.keys())"
   ]
  },
  {
   "cell_type": "code",
   "execution_count": 41,
   "id": "21f687db",
   "metadata": {},
   "outputs": [
    {
     "name": "stdout",
     "output_type": "stream",
     "text": [
      "<xarray.DataArray 'time' (time: 60)>\n",
      "array(['2024-08-06T09:11:00.000000768', '2024-08-06T09:12:00.000007424',\n",
      "       '2024-08-06T09:13:00.000003840', '2024-08-06T09:14:00.000000256',\n",
      "       '2024-08-06T09:15:00.000006656', '2024-08-06T09:16:00.000003072',\n",
      "       '2024-08-06T09:16:59.999999488', '2024-08-06T09:18:00.000006144',\n",
      "       '2024-08-06T09:19:00.000002560', '2024-08-06T09:19:59.999998976',\n",
      "       '2024-08-06T09:21:00.000005376', '2024-08-06T09:22:00.000001792',\n",
      "       '2024-08-06T09:23:00.000008192', '2024-08-06T09:24:00.000004608',\n",
      "       '2024-08-06T09:25:00.000001024', '2024-08-06T09:26:00.000007680',\n",
      "       '2024-08-06T09:27:00.000004096', '2024-08-06T09:28:00.000000512',\n",
      "       '2024-08-06T09:29:00.000006912', '2024-08-06T09:30:00.000003328',\n",
      "       '2024-08-06T09:30:59.999999744', '2024-08-06T09:32:00.000006144',\n",
      "       '2024-08-06T09:33:00.000002560', '2024-08-06T09:33:59.999999232',\n",
      "       '2024-08-06T09:35:00.000005632', '2024-08-06T09:36:00.000002048',\n",
      "       '2024-08-06T09:36:59.999998464', '2024-08-06T09:38:00.000004864',\n",
      "       '2024-08-06T09:39:00.000001280', '2024-08-06T09:40:00.000007936',\n",
      "       '2024-08-06T09:41:00.000004352', '2024-08-06T09:42:00.000000768',\n",
      "       '2024-08-06T09:43:00.000007168', '2024-08-06T09:44:00.000003584',\n",
      "       '2024-08-06T09:45:00.000000000', '2024-08-06T09:46:00.000006400',\n",
      "       '2024-08-06T09:47:00.000002816', '2024-08-06T09:47:59.999999232',\n",
      "       '2024-08-06T09:49:00.000005888', '2024-08-06T09:50:00.000002304',\n",
      "       '2024-08-06T09:50:59.999998720', '2024-08-06T09:52:00.000005120',\n",
      "       '2024-08-06T09:53:00.000001536', '2024-08-06T09:54:00.000007936',\n",
      "       '2024-08-06T09:55:00.000004352', '2024-08-06T09:56:00.000000768',\n",
      "       '2024-08-06T09:57:00.000007424', '2024-08-06T09:58:00.000003840',\n",
      "       '2024-08-06T10:11:00.000007680', '2024-08-06T10:12:00.000004096',\n",
      "       '2024-08-06T10:13:00.000000512', '2024-08-06T13:11:00.000007680',\n",
      "       '2024-08-06T13:12:00.000004096', '2024-08-06T13:13:00.000000512',\n",
      "       '2024-08-06T13:14:00.000006912', '2024-08-06T13:15:00.000003328',\n",
      "       '2024-08-06T13:15:59.999999744', '2024-08-06T13:17:00.000006144',\n",
      "       '2024-08-06T13:18:00.000002560', '2024-08-06T13:18:59.999999232'],\n",
      "      dtype='datetime64[ns]')\n",
      "Coordinates:\n",
      "  * time     (time) datetime64[ns] 2024-08-06T09:11:00.000000768 ... 2024-08-...\n",
      "Attributes:\n",
      "    time zone:  UTC\n"
     ]
    }
   ],
   "source": [
    "print(acs_filtered_xyz['acs_chl'].time)\n"
   ]
  },
  {
   "cell_type": "code",
   "execution_count": null,
   "id": "36530b61",
   "metadata": {},
   "outputs": [],
   "source": []
  }
 ],
 "metadata": {
  "kernelspec": {
   "display_name": "Python 3 (ipykernel)",
   "language": "python",
   "name": "python3"
  },
  "language_info": {
   "codemirror_mode": {
    "name": "ipython",
    "version": 3
   },
   "file_extension": ".py",
   "mimetype": "text/x-python",
   "name": "python",
   "nbconvert_exporter": "python",
   "pygments_lexer": "ipython3",
   "version": "3.8.13"
  }
 },
 "nbformat": 4,
 "nbformat_minor": 5
}
